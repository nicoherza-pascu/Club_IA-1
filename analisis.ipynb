{
 "cells": [
  {
   "cell_type": "markdown",
   "metadata": {},
   "source": []
  },
  {
   "cell_type": "code",
   "execution_count": 55,
   "metadata": {},
   "outputs": [],
   "source": [
    "import pandas as pd\n",
    "import matplotlib.pyplot as plt\n",
    "import seaborn as sns\n",
    "import plotly\n",
    "\n"
   ]
  },
  {
   "cell_type": "code",
   "execution_count": 56,
   "metadata": {},
   "outputs": [
    {
     "data": {
      "text/html": [
       "<div>\n",
       "<style scoped>\n",
       "    .dataframe tbody tr th:only-of-type {\n",
       "        vertical-align: middle;\n",
       "    }\n",
       "\n",
       "    .dataframe tbody tr th {\n",
       "        vertical-align: top;\n",
       "    }\n",
       "\n",
       "    .dataframe thead th {\n",
       "        text-align: right;\n",
       "    }\n",
       "</style>\n",
       "<table border=\"1\" class=\"dataframe\">\n",
       "  <thead>\n",
       "    <tr style=\"text-align: right;\">\n",
       "      <th></th>\n",
       "      <th>x1</th>\n",
       "      <th>x2</th>\n",
       "      <th>x3</th>\n",
       "      <th>x4</th>\n",
       "      <th>y</th>\n",
       "    </tr>\n",
       "  </thead>\n",
       "  <tbody>\n",
       "    <tr>\n",
       "      <th>0</th>\n",
       "      <td>54.967142</td>\n",
       "      <td>30.094195</td>\n",
       "      <td>81.230658</td>\n",
       "      <td>30.660775</td>\n",
       "      <td>437.934100</td>\n",
       "    </tr>\n",
       "    <tr>\n",
       "      <th>1</th>\n",
       "      <td>48.617357</td>\n",
       "      <td>31.396085</td>\n",
       "      <td>89.071848</td>\n",
       "      <td>30.576253</td>\n",
       "      <td>397.920659</td>\n",
       "    </tr>\n",
       "    <tr>\n",
       "      <th>2</th>\n",
       "      <td>56.476885</td>\n",
       "      <td>47.642730</td>\n",
       "      <td>94.355188</td>\n",
       "      <td>35.710269</td>\n",
       "      <td>501.789803</td>\n",
       "    </tr>\n",
       "    <tr>\n",
       "      <th>3</th>\n",
       "      <td>65.230299</td>\n",
       "      <td>37.176792</td>\n",
       "      <td>121.015486</td>\n",
       "      <td>8.842896</td>\n",
       "      <td>592.482636</td>\n",
       "    </tr>\n",
       "    <tr>\n",
       "      <th>4</th>\n",
       "      <td>47.658466</td>\n",
       "      <td>34.847779</td>\n",
       "      <td>76.741220</td>\n",
       "      <td>33.192649</td>\n",
       "      <td>431.917856</td>\n",
       "    </tr>\n",
       "    <tr>\n",
       "      <th>5</th>\n",
       "      <td>47.658630</td>\n",
       "      <td>58.714259</td>\n",
       "      <td>92.851699</td>\n",
       "      <td>17.633838</td>\n",
       "      <td>545.168478</td>\n",
       "    </tr>\n",
       "    <tr>\n",
       "      <th>6</th>\n",
       "      <td>65.792128</td>\n",
       "      <td>59.058305</td>\n",
       "      <td>119.060190</td>\n",
       "      <td>27.815135</td>\n",
       "      <td>642.339652</td>\n",
       "    </tr>\n",
       "    <tr>\n",
       "      <th>7</th>\n",
       "      <td>57.674347</td>\n",
       "      <td>69.471024</td>\n",
       "      <td>94.002451</td>\n",
       "      <td>39.799560</td>\n",
       "      <td>598.256350</td>\n",
       "    </tr>\n",
       "    <tr>\n",
       "      <th>8</th>\n",
       "      <td>45.305256</td>\n",
       "      <td>45.062514</td>\n",
       "      <td>109.208313</td>\n",
       "      <td>36.754067</td>\n",
       "      <td>511.385470</td>\n",
       "    </tr>\n",
       "    <tr>\n",
       "      <th>9</th>\n",
       "      <td>55.425600</td>\n",
       "      <td>24.385105</td>\n",
       "      <td>97.209159</td>\n",
       "      <td>10.350636</td>\n",
       "      <td>476.515428</td>\n",
       "    </tr>\n",
       "  </tbody>\n",
       "</table>\n",
       "</div>"
      ],
      "text/plain": [
       "          x1         x2          x3         x4           y\n",
       "0  54.967142  30.094195   81.230658  30.660775  437.934100\n",
       "1  48.617357  31.396085   89.071848  30.576253  397.920659\n",
       "2  56.476885  47.642730   94.355188  35.710269  501.789803\n",
       "3  65.230299  37.176792  121.015486   8.842896  592.482636\n",
       "4  47.658466  34.847779   76.741220  33.192649  431.917856\n",
       "5  47.658630  58.714259   92.851699  17.633838  545.168478\n",
       "6  65.792128  59.058305  119.060190  27.815135  642.339652\n",
       "7  57.674347  69.471024   94.002451  39.799560  598.256350\n",
       "8  45.305256  45.062514  109.208313  36.754067  511.385470\n",
       "9  55.425600  24.385105   97.209159  10.350636  476.515428"
      ]
     },
     "execution_count": 56,
     "metadata": {},
     "output_type": "execute_result"
    }
   ],
   "source": [
    "df=pd.read_excel(\"regression_data.xlsx\")\n",
    "df.head(10)\n"
   ]
  },
  {
   "cell_type": "code",
   "execution_count": 57,
   "metadata": {},
   "outputs": [
    {
     "data": {
      "text/html": [
       "<div>\n",
       "<style scoped>\n",
       "    .dataframe tbody tr th:only-of-type {\n",
       "        vertical-align: middle;\n",
       "    }\n",
       "\n",
       "    .dataframe tbody tr th {\n",
       "        vertical-align: top;\n",
       "    }\n",
       "\n",
       "    .dataframe thead th {\n",
       "        text-align: right;\n",
       "    }\n",
       "</style>\n",
       "<table border=\"1\" class=\"dataframe\">\n",
       "  <thead>\n",
       "    <tr style=\"text-align: right;\">\n",
       "      <th></th>\n",
       "      <th>x1</th>\n",
       "      <th>x2</th>\n",
       "      <th>x3</th>\n",
       "      <th>x4</th>\n",
       "      <th>y</th>\n",
       "    </tr>\n",
       "  </thead>\n",
       "  <tbody>\n",
       "    <tr>\n",
       "      <th>4845</th>\n",
       "      <td>49.510350</td>\n",
       "      <td>28.417101</td>\n",
       "      <td>113.903320</td>\n",
       "      <td>20.606100</td>\n",
       "      <td>476.302826</td>\n",
       "    </tr>\n",
       "    <tr>\n",
       "      <th>4846</th>\n",
       "      <td>57.114106</td>\n",
       "      <td>73.193847</td>\n",
       "      <td>154.719203</td>\n",
       "      <td>48.654579</td>\n",
       "      <td>711.200291</td>\n",
       "    </tr>\n",
       "    <tr>\n",
       "      <th>4847</th>\n",
       "      <td>81.129102</td>\n",
       "      <td>63.786358</td>\n",
       "      <td>111.375394</td>\n",
       "      <td>40.135453</td>\n",
       "      <td>689.333944</td>\n",
       "    </tr>\n",
       "    <tr>\n",
       "      <th>4848</th>\n",
       "      <td>58.080362</td>\n",
       "      <td>29.880216</td>\n",
       "      <td>87.402275</td>\n",
       "      <td>17.716587</td>\n",
       "      <td>511.420343</td>\n",
       "    </tr>\n",
       "    <tr>\n",
       "      <th>4849</th>\n",
       "      <td>41.519344</td>\n",
       "      <td>53.949080</td>\n",
       "      <td>106.958322</td>\n",
       "      <td>30.377380</td>\n",
       "      <td>495.599444</td>\n",
       "    </tr>\n",
       "  </tbody>\n",
       "</table>\n",
       "</div>"
      ],
      "text/plain": [
       "             x1         x2          x3         x4           y\n",
       "4845  49.510350  28.417101  113.903320  20.606100  476.302826\n",
       "4846  57.114106  73.193847  154.719203  48.654579  711.200291\n",
       "4847  81.129102  63.786358  111.375394  40.135453  689.333944\n",
       "4848  58.080362  29.880216   87.402275  17.716587  511.420343\n",
       "4849  41.519344  53.949080  106.958322  30.377380  495.599444"
      ]
     },
     "execution_count": 57,
     "metadata": {},
     "output_type": "execute_result"
    }
   ],
   "source": [
    "df.tail()"
   ]
  },
  {
   "cell_type": "code",
   "execution_count": 58,
   "metadata": {},
   "outputs": [
    {
     "data": {
      "text/plain": [
       "(4850, 5)"
      ]
     },
     "execution_count": 58,
     "metadata": {},
     "output_type": "execute_result"
    }
   ],
   "source": [
    "df.shape"
   ]
  },
  {
   "cell_type": "code",
   "execution_count": 59,
   "metadata": {},
   "outputs": [
    {
     "data": {
      "text/html": [
       "<div>\n",
       "<style scoped>\n",
       "    .dataframe tbody tr th:only-of-type {\n",
       "        vertical-align: middle;\n",
       "    }\n",
       "\n",
       "    .dataframe tbody tr th {\n",
       "        vertical-align: top;\n",
       "    }\n",
       "\n",
       "    .dataframe thead th {\n",
       "        text-align: right;\n",
       "    }\n",
       "</style>\n",
       "<table border=\"1\" class=\"dataframe\">\n",
       "  <thead>\n",
       "    <tr style=\"text-align: right;\">\n",
       "      <th></th>\n",
       "      <th>x1</th>\n",
       "      <th>x2</th>\n",
       "      <th>x3</th>\n",
       "      <th>x4</th>\n",
       "      <th>y</th>\n",
       "    </tr>\n",
       "  </thead>\n",
       "  <tbody>\n",
       "    <tr>\n",
       "      <th>count</th>\n",
       "      <td>4850.000000</td>\n",
       "      <td>4850.000000</td>\n",
       "      <td>4850.000000</td>\n",
       "      <td>4850.000000</td>\n",
       "      <td>4850.000000</td>\n",
       "    </tr>\n",
       "    <tr>\n",
       "      <th>mean</th>\n",
       "      <td>50.245794</td>\n",
       "      <td>49.559179</td>\n",
       "      <td>99.639170</td>\n",
       "      <td>28.034281</td>\n",
       "      <td>521.272951</td>\n",
       "    </tr>\n",
       "    <tr>\n",
       "      <th>std</th>\n",
       "      <td>10.913068</td>\n",
       "      <td>17.445190</td>\n",
       "      <td>21.758503</td>\n",
       "      <td>13.030461</td>\n",
       "      <td>78.665093</td>\n",
       "    </tr>\n",
       "    <tr>\n",
       "      <th>min</th>\n",
       "      <td>17.587327</td>\n",
       "      <td>-19.067616</td>\n",
       "      <td>-98.319540</td>\n",
       "      <td>5.002166</td>\n",
       "      <td>211.635384</td>\n",
       "    </tr>\n",
       "    <tr>\n",
       "      <th>25%</th>\n",
       "      <td>43.462555</td>\n",
       "      <td>34.969922</td>\n",
       "      <td>86.780466</td>\n",
       "      <td>17.041314</td>\n",
       "      <td>467.079335</td>\n",
       "    </tr>\n",
       "    <tr>\n",
       "      <th>50%</th>\n",
       "      <td>50.182093</td>\n",
       "      <td>49.485899</td>\n",
       "      <td>99.978770</td>\n",
       "      <td>28.233901</td>\n",
       "      <td>522.122952</td>\n",
       "    </tr>\n",
       "    <tr>\n",
       "      <th>75%</th>\n",
       "      <td>56.687199</td>\n",
       "      <td>64.363229</td>\n",
       "      <td>113.327527</td>\n",
       "      <td>39.194722</td>\n",
       "      <td>576.690755</td>\n",
       "    </tr>\n",
       "    <tr>\n",
       "      <th>max</th>\n",
       "      <td>149.527760</td>\n",
       "      <td>79.980392</td>\n",
       "      <td>168.578210</td>\n",
       "      <td>49.995544</td>\n",
       "      <td>770.685145</td>\n",
       "    </tr>\n",
       "  </tbody>\n",
       "</table>\n",
       "</div>"
      ],
      "text/plain": [
       "                x1           x2           x3           x4            y\n",
       "count  4850.000000  4850.000000  4850.000000  4850.000000  4850.000000\n",
       "mean     50.245794    49.559179    99.639170    28.034281   521.272951\n",
       "std      10.913068    17.445190    21.758503    13.030461    78.665093\n",
       "min      17.587327   -19.067616   -98.319540     5.002166   211.635384\n",
       "25%      43.462555    34.969922    86.780466    17.041314   467.079335\n",
       "50%      50.182093    49.485899    99.978770    28.233901   522.122952\n",
       "75%      56.687199    64.363229   113.327527    39.194722   576.690755\n",
       "max     149.527760    79.980392   168.578210    49.995544   770.685145"
      ]
     },
     "execution_count": 59,
     "metadata": {},
     "output_type": "execute_result"
    }
   ],
   "source": [
    "df.describe()"
   ]
  },
  {
   "cell_type": "code",
   "execution_count": 60,
   "metadata": {},
   "outputs": [
    {
     "data": {
      "text/plain": [
       "<function matplotlib.pyplot.show(close=None, block=None)>"
      ]
     },
     "execution_count": 60,
     "metadata": {},
     "output_type": "execute_result"
    },
    {
     "data": {
      "image/png": "[encoded data removed]",
      "text/plain": [
       "<Figure size 640x480 with 1 Axes>"
      ]
     },
     "metadata": {},
     "output_type": "display_data"
    }
   ],
   "source": [
    "plt.figure()\n",
    "plt.hist(df[\"x1\"])\n",
    "plt.show"
   ]
  },
  {
   "cell_type": "code",
   "execution_count": 61,
   "metadata": {},
   "outputs": [
    {
     "data": {
      "image/png": "[encoded data removed]",
      "text/plain": [
       "<Figure size 640x480 with 1 Axes>"
      ]
     },
     "metadata": {},
     "output_type": "display_data"
    }
   ],
   "source": [
    "plt.Figure()\n",
    "plt.hist(df[\"x2\"])\n",
    "plt.show()"
   ]
  },
  {
   "cell_type": "code",
   "execution_count": 62,
   "metadata": {},
   "outputs": [
    {
     "data": {
      "image/png": "[encoded data removed]",
      "text/plain": [
       "<Figure size 640x480 with 1 Axes>"
      ]
     },
     "metadata": {},
     "output_type": "display_data"
    }
   ],
   "source": [
    "df_filtered =df[df[\"x1\"]<=100 ]\n",
    "plt.Figure()\n",
    "plt.hist(df_filtered['x1'])\n",
    "plt.show()"
   ]
  }
 ],
 "metadata": {
  "kernelspec": {
   "display_name": "venv",
   "language": "python",
   "name": "python3"
  },
  "language_info": {
   "codemirror_mode": {
    "name": "ipython",
    "version": 3
   },
   "file_extension": ".py",
   "mimetype": "text/x-python",
   "name": "python",
   "nbconvert_exporter": "python",
   "pygments_lexer": "ipython3",
   "version": "3.13.2"
  }
 },
 "nbformat": 4,
 "nbformat_minor": 2
}
